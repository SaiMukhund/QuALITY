{
 "cells": [
  {
   "cell_type": "code",
   "execution_count": 1,
   "metadata": {},
   "outputs": [],
   "source": [
    "import os\n",
    "import json"
   ]
  },
  {
   "cell_type": "code",
   "execution_count": 2,
   "metadata": {},
   "outputs": [],
   "source": [
    "from preprocess_dataset import read_quality_dataset\n",
    "from retriever import basic_retriever"
   ]
  },
  {
   "cell_type": "code",
   "execution_count": 3,
   "metadata": {},
   "outputs": [],
   "source": [
    "dev_path=\"D:\\\\AI\\\\project_QuALITY\\\\data\\\\QuALITY.v1.0.1\\\\quality_json_format\\\\hmtlstripped_dev.json\""
   ]
  },
  {
   "cell_type": "code",
   "execution_count": 4,
   "metadata": {},
   "outputs": [],
   "source": [
    "dev_data=read_quality_dataset(dev_path)"
   ]
  },
  {
   "cell_type": "code",
   "execution_count": 5,
   "metadata": {},
   "outputs": [],
   "source": [
    "data=dev_data[0]"
   ]
  },
  {
   "cell_type": "code",
   "execution_count": 6,
   "metadata": {},
   "outputs": [],
   "source": [
    "passage=data[\"passage\"]\n",
    "questions=data[\"questions\"]"
   ]
  },
  {
   "cell_type": "code",
   "execution_count": 7,
   "metadata": {},
   "outputs": [],
   "source": [
    "retriver=basic_retriever(passage)"
   ]
  },
  {
   "cell_type": "code",
   "execution_count": 8,
   "metadata": {},
   "outputs": [
    {
     "name": "stderr",
     "output_type": "stream",
     "text": [
      "INFO:AnglE:Prompt is set, the prompt will be automatically applied during the encoding phase. To disable prompt setting, please configure set_prompt(prompt=None)\n"
     ]
    }
   ],
   "source": [
    "retriver.splitting_text(200,40)"
   ]
  },
  {
   "cell_type": "code",
   "execution_count": 11,
   "metadata": {},
   "outputs": [],
   "source": [
    "q=questions[0]"
   ]
  },
  {
   "cell_type": "code",
   "execution_count": 12,
   "metadata": {},
   "outputs": [
    {
     "data": {
      "text/plain": [
       "{'question': \"How much time has passed between Blake's night with Eldoria and his search for Sabrina York in his mind-world?\",\n",
       " 'options': ['7 years', '10 hours', '12 years', '1 hour'],\n",
       " 'gold_label': 2,\n",
       " 'difficult': 0}"
      ]
     },
     "execution_count": 12,
     "metadata": {},
     "output_type": "execute_result"
    }
   ],
   "source": [
    "q"
   ]
  },
  {
   "cell_type": "code",
   "execution_count": 55,
   "metadata": {},
   "outputs": [],
   "source": [
    "docs=retriver.retrieval_question_only(\"\"\"How much time has passed between Blake's night with Eldoria and his search for Sabrina York in his mind-world?\"\"\",4)"
   ]
  },
  {
   "cell_type": "code",
   "execution_count": 56,
   "metadata": {},
   "outputs": [],
   "source": [
    "data=\"\"\n",
    "for doc in docs:\n",
    "    data+=doc[\"document\"]"
   ]
  },
  {
   "cell_type": "code",
   "execution_count": 57,
   "metadata": {},
   "outputs": [
    {
     "data": {
      "text/plain": [
       "\"Sabrina York did not even know the rudiments of the art of throwing\\n off a mind-tracker. It would have done her but little good if she\\n had, for twelve years as a psycheye had taught Blake all the tricks.\\n Probably she had taken it for granted that the mere act of hiding out\\n in her tracker's mind was in itself a sufficient guarantee of her\\n safety. After all, she had no way of knowing that he had discovered her\\n presence.Only two things bothered Blake. The little office was far in his past,\\n and it was unlikely that anyone save the few intimate acquaintances\\n whom he had told about it were aware that it had ever existed. How,\\n then, had a total stranger such as Sabrina York learned enough about it\\n to enable her to use it as a point of entry?Blake was one of a long line of such operators.\\n\\n\\n So far as he knew, the present case represented the first time a\\n criminal had ever hidden out in the pursuer's mind. It would have been\\n a superb stratagem indeed if, shortly after her entry, Sabrina York\\n had not betrayed her presence. For her point of entry she had used\\n the place-time materialization of the little office Blake had opened\\n on Ex-earth at the beginning of his career. Unaccountably she had\\n ransacked it before moving into a co-terminous memory-image.He was relieved when Eldoria finally arrived. She ushered him into\\n the next room immediately. It was slightly larger than the anteroom,\\n and much more richly appointed. A thick carpet the color of Martian\\n waterways lay upon the floor, contrasting pleasantly with the golden\\n tapestries that adorned all four walls. The sleeping dais was oval\\n and took up nearly half the floor space. It was strewn with scarlet\\n cushions.\\n\\n\\n Blake sat down upon it. Nervously he watched Eldoria slip out of her\\n white street robe, his eyes moving back and forth from her smooth dark\\n skin to the arras. The incense thickened around him.\""
      ]
     },
     "execution_count": 57,
     "metadata": {},
     "output_type": "execute_result"
    }
   ],
   "source": [
    "data"
   ]
  },
  {
   "cell_type": "code",
   "execution_count": 58,
   "metadata": {},
   "outputs": [],
   "source": [
    "options_format=\"1){} \\n 2){} \\n 3){} \\n 4){}\".format(q[\"options\"][0],q[\"options\"][1],q[\"options\"][2],q['options'][3])"
   ]
  },
  {
   "cell_type": "code",
   "execution_count": 59,
   "metadata": {},
   "outputs": [],
   "source": [
    "prompt=\"\"\"\n",
    "passage={} \n",
    "question={}\n",
    "options={}\n",
    "given passage answer the question given options \n",
    "\"\"\".format(data,q[\"question\"],options_format)"
   ]
  },
  {
   "cell_type": "code",
   "execution_count": 60,
   "metadata": {},
   "outputs": [
    {
     "name": "stdout",
     "output_type": "stream",
     "text": [
      "\n",
      "passage=Sabrina York did not even know the rudiments of the art of throwing\n",
      " off a mind-tracker. It would have done her but little good if she\n",
      " had, for twelve years as a psycheye had taught Blake all the tricks.\n",
      " Probably she had taken it for granted that the mere act of hiding out\n",
      " in her tracker's mind was in itself a sufficient guarantee of her\n",
      " safety. After all, she had no way of knowing that he had discovered her\n",
      " presence.Only two things bothered Blake. The little office was far in his past,\n",
      " and it was unlikely that anyone save the few intimate acquaintances\n",
      " whom he had told about it were aware that it had ever existed. How,\n",
      " then, had a total stranger such as Sabrina York learned enough about it\n",
      " to enable her to use it as a point of entry?Blake was one of a long line of such operators.\n",
      "\n",
      "\n",
      " So far as he knew, the present case represented the first time a\n",
      " criminal had ever hidden out in the pursuer's mind. It would have been\n",
      " a superb stratagem indeed if, shortly after her entry, Sabrina York\n",
      " had not betrayed her presence. For her point of entry she had used\n",
      " the place-time materialization of the little office Blake had opened\n",
      " on Ex-earth at the beginning of his career. Unaccountably she had\n",
      " ransacked it before moving into a co-terminous memory-image.He was relieved when Eldoria finally arrived. She ushered him into\n",
      " the next room immediately. It was slightly larger than the anteroom,\n",
      " and much more richly appointed. A thick carpet the color of Martian\n",
      " waterways lay upon the floor, contrasting pleasantly with the golden\n",
      " tapestries that adorned all four walls. The sleeping dais was oval\n",
      " and took up nearly half the floor space. It was strewn with scarlet\n",
      " cushions.\n",
      "\n",
      "\n",
      " Blake sat down upon it. Nervously he watched Eldoria slip out of her\n",
      " white street robe, his eyes moving back and forth from her smooth dark\n",
      " skin to the arras. The incense thickened around him. \n",
      "question=How much time has passed between Blake's night with Eldoria and his search for Sabrina York in his mind-world?\n",
      "options=1)7 years \n",
      " 2)10 hours \n",
      " 3)12 years \n",
      " 4)1 hour\n",
      "given passage answer the question given options \n",
      "\n"
     ]
    }
   ],
   "source": [
    "print(prompt)"
   ]
  },
  {
   "cell_type": "code",
   "execution_count": null,
   "metadata": {},
   "outputs": [],
   "source": []
  },
  {
   "cell_type": "code",
   "execution_count": null,
   "metadata": {},
   "outputs": [],
   "source": []
  }
 ],
 "metadata": {
  "kernelspec": {
   "display_name": "llm",
   "language": "python",
   "name": "python3"
  },
  "language_info": {
   "codemirror_mode": {
    "name": "ipython",
    "version": 3
   },
   "file_extension": ".py",
   "mimetype": "text/x-python",
   "name": "python",
   "nbconvert_exporter": "python",
   "pygments_lexer": "ipython3",
   "version": "3.11.0"
  }
 },
 "nbformat": 4,
 "nbformat_minor": 2
}
