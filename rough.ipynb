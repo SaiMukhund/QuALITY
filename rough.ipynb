{
 "cells": [
  {
   "cell_type": "code",
   "execution_count": 4,
   "metadata": {},
   "outputs": [],
   "source": [
    "import os\n",
    "import json"
   ]
  },
  {
   "cell_type": "code",
   "execution_count": 1,
   "metadata": {},
   "outputs": [],
   "source": [
    "path_train=\"D:\\AI\\project_QuALITY\\data\\QuALITY.v1.0.1\\QuALITY.v1.0.1.htmlstripped.test\"\n"
   ]
  },
  {
   "cell_type": "code",
   "execution_count": 7,
   "metadata": {},
   "outputs": [],
   "source": [
    "with open(path_train,'r') as f:\n",
    "    x=f.readlines()"
   ]
  },
  {
   "cell_type": "code",
   "execution_count": 10,
   "metadata": {},
   "outputs": [],
   "source": [
    "data=json.loads(x[0])"
   ]
  },
  {
   "cell_type": "code",
   "execution_count": 11,
   "metadata": {},
   "outputs": [
    {
     "data": {
      "text/plain": [
       "{'article_id': '63860',\n",
       " 'set_unique_id': '63860_6KOJTPYF',\n",
       " 'batch_num': '11',\n",
       " 'writer_id': '1013',\n",
       " 'source': 'Gutenberg',\n",
       " 'title': 'Signal Red',\n",
       " 'year': 1962,\n",
       " 'author': 'Guth, Henry',\n",
       " 'topic': 'Short stories; War stories; Science fiction; Space ships -- Fiction; Sabotage -- Fiction; PS; Older men -- Fiction',\n",
       " 'article': 'SIGNAL RED\\nBy HENRY GUTH\\nThey tried to stop him. Earth Flight 21 was a\\n\\n suicide run, a coffin ship, they told him.\\n\\n Uranian death lay athwart the space lanes. But\\n\\n Shano already knew this was his last ride.\\n\\n\\n [Transcriber\\'s Note: This etext was produced from\\n\\n Planet Stories Fall 1949.\\n\\n Extensive research did not uncover any evidence that\\n\\n the U.S. copyright on this publication was renewed.]\\nMercurian night settled black and thick over the Q City Spaceport.\\n Tentative fingers of light flicked and probed the sky, and winked out.\\n\\n\\n \"Here she comes,\" somebody in the line ahead said.\\n\\n\\n Shano coughed, his whole skeletal body jerking. Arthritic joints sent\\n flashes of pain along his limbs. Here she comes, he thought, feeling\\n neither glad nor sad.\\n\\n\\n He coughed and slipped polarized goggles over his eyes.\\n\\n\\n The spaceport emerged bathed in infra red. Hangars, cradles, freighter\\n catapults and long runways stood out in sharp, diamond-clear detail.\\n High up, beyond the cone of illumination, a detached triple row of\\n bright specks—portholes of the liner\\nStardust\\n—sank slowly down.\\n\\n\\n There was no eagerness in him. Only a tiredness. A relief. Relief from\\n a lifetime of beating around the planets. A life of digging, lifting,\\n lugging and pounding. Like a work-worn Martian camel, he was going home\\n to die.\\n\\n\\n As though on oiled pistons the ship sank into the light, its long\\n shark-like hull glowing soft and silvery, and settled with a feathery\\n snuggle into the cradle\\'s ribs.\\n\\n\\n The passenger line quivered as a loud-speaker boomed:\\n\\n\\n \"\\nStardust, now arrived at Cradle Six! Stardust, Cradle Six! All\\n passengers for Venus and Earth prepare to board in ten minutes.\\n\"\\n\\n\\n Shano coughed, and wiped phlegm from his thin lips, his hand following\\n around the bony contours of his face, feeling the hollows and the beard\\n stubble and loose skin of his neck. He coughed and thought of the\\n vanium mines of Pluto, and his gum-clogged lungs. A vague, pressing\\n desire for home overwhelmed him. It had been so long.\\n\\n\\n \"\\nAttention! Attention, Stardust passengers! The signal is red. The\\n signal is red. Refunds now being made. Refunds now. Take-off in five\\n minutes.\\n\"\\n\\n\\n The man ahead swore and flicked up an arm. \"Red,\" he groaned. \"By the\\n infinite galaxies, this is the last straw!\" He charged away, knocking\\n Shano aside as he passed.\\nRed signal.\\nIn bewildered anxiety Shano lifted the goggles from his\\n eyes and stared into the sudden blackness. The red signal. Danger out\\n there. Passengers advised to ground themselves, or travel at their own\\n risk.\\n\\n\\n He felt the passengers bump and fumble past him, grumbling vexatiously.\\n\\n\\n A hot dread assailed him, and he coughed, plucking at his chest.\\n Plucking at an urgency there.\\n\\n\\n Dropping the goggles to his rheumy eyes, he saw that the passenger line\\n had dissolved. He moved, shuffling, to the gate, thrust his ticket into\\n the scanner slot, and pushed through the turnstile when it clicked.\\n\\n\\n \"\\nFlight twenty-one, now arriving from Venus\\n,\" the loud-speaker said\\n monotonously. Shano glanced briefly upward and saw the gleaming belly\\n of twenty-one sinking into the spaceport cone of light.\\n\\n\\n He clawed his way up the gangway and thrust out his ticket to the\\n lieutenant standing alone at the air lock. The lieutenant, a sullen,\\n chunky man with a queer nick in his jawbone, refused the ticket.\\n \"Haven\\'t you heard, mister? Red signal. Go on back.\"\\n\\n\\n Shano coughed, and peered through the lenses of his goggles. \"Please,\"\\n he said. \"Want to go home. I\\'ve a right.\" The nicked jaw stirred faint\\n memories within his glazed mind.\\n\\n\\n The lieutenant punched his ticket. \"It\\'s your funeral, old man.\"\\n\\n\\n The loud-speaker blared. \"\\nStardust, taking off in thirty seconds. The\\n signal is red. Stardust, taking—\\n\"\\n\\n\\n With the words dinning in his ears, Shano stepped into the air lock.\\n The officer followed, spun wheels, and the lock closed. The outside was\\n shut off.\\n\\n\\n Lifting goggles they entered the hull, through a series of two more\\n locks, closing each behind them.\\n\\n\\n \"We\\'re afloat,\" the officer said. \"We\\'ve taken off.\" A fleck of light\\n danced far back in his eye. Shano felt the pressure of acceleration\\n gradually increasing, increasing, and hurried in.\\nCaptain Menthlo, a silver-mustached Jupiterian, broad, huge, yet\\n crushable as a beetle, talked while his hands manipulated a panel of\\n studs in the control room. The pilot, his back encased in leather, sat\\n in a bucket seat before him, listening into earphones.\\n\\n\\n \"Surprised to learn of a passenger aboard,\" the captain said, glancing\\n briefly sideways. \"You\\'re entitled to know of the danger ahead.\" He\\n flicked a final stud, spoke to the pilot and at last turned a serious,\\n squared face to Shano. \"Old man,\" he said. \"There\\'s a Uranian fleet out\\n there. We don\\'t know how many ships in this sector. Flight twenty-one,\\n which just landed, had a skirmish with one, and got away. We may not be\\n so lucky. You know how these Uranian devils are.\"\\n\\n\\n Shano coughed, and wiped his mouth. \"Dirty devils,\" he said. \"I was\\n driv\\' off the planet once, before this war started. I know things\\n about them Uranian devils. Heard them in the mines around. Hears\\n things, a laborer does.\"\\n\\n\\n The captain seemed for the first time to realize the social status of\\n his lone passenger, and he became a little gruff.\\n\\n\\n \"Want you to sign this waiver, saying you\\'re traveling at your own\\n risk. We\\'ll expect you to keep to your cabin as much as possible.\\n When the trouble comes we can\\'t bother with a passenger. In a few\\n hours we\\'ll shut down the ship entirely, and every mechanical device\\n aboard, to try to avoid detection.\" His mustaches rose like two spears\\n from each side of his squared nose as his face changed to an alert\\n watchfulness. \"Going home, eh?\" he said. \"You\\'ve knocked around some,\\n by the looks of you. Pluto, from the sound of that cough.\"\\n\\n\\n Shano scrawled his signature on the waiver. \"Yeah,\" he said. \"Pluto.\\n Where a man\\'s lungs fights gas.\" He blinked watery eyes. \"Captain,\\n what\\'s a notched jaw mean to you?\"\\n\\n\\n \"Well, old man,\" the captain grasped Shano\\'s shoulder and turned him\\n around. \"It means somebody cut himself, shaving. You stick tight to\\n your cabin.\" He nodded curtly and indicated the door.\\n\\n\\n Descending the companionway to the next deck Shano observed the\\n nick-jawed lieutenant staring out the viewport, apparently idling. The\\n man turned and gripped Shano\\'s thin arm.\\n\\n\\n \"A light?\" he said, tapping a cigarette. Shano produced a lighter\\n disk and the chunky man puffed. He was an Earthman and his jaw seemed\\n cut with a knife, notched like a piece of wood. Across the breast of\\n his tunic was a purple band, with the name\\nRourke\\n. \"Why are you so\\n anxious to get aboard, old man?\" He searched Shano\\'s face. \"There\\'s\\n trouble ahead, you know.\"\\n\\n\\n Shano coughed, wracking his body, as forgotten memories stirred\\n sluggishly in his mind. \"Yup,\" he said, and jerked free and stumbled\\n down the steel deck.\\n\\n\\n In his cabin he lay on the bunk, lighted a cigarette and smoked,\\n coughing and staring at the rivet-studded bulkhead. The slow movement\\n of his mind resolved into a struggle, one idea groping for the other.\\n\\n\\n What were the things he\\'d heard about nicked jaws? And where had\\n he heard them? Digging ore on Pluto; talk in the pits? Secretive\\n suspicions voiced in smoke-laden saloons of Mars? In the labor gangs of\\n Uranus? Where? Shano smoked and didn\\'t know. But he knew there was a\\n rumor, and that it was the talk of ignorant men. The captain had evaded\\n it. Shano smoked and coughed and stared at the steel bulkhead and\\n waited.\\nThe ship\\'s alarm clanged. Shano jerked from his bunk like a broken\\n watch spring. He crouched, trembling, on arthritic joints, as a\\n loud-speaker blared throughout the ship.\\n\\n\\n \"\\nAll hands! We now maintain dead silence. Close down and stop all\\n machinery. Power off and lights out. An enemy fleet is out there,\\n listening and watching for mechanical and electronic disturbance.\\n Atmosphere will be maintained from emergency oxygen cylinders. Stop\\n pumps.\\n\"\\n\\n\\n Shano crouched and listened as the ship\\'s steady drone ceased and the\\n vibrations ceased. The pumps stopped, the lights went out.\\n\\n\\n Pressing the cold steel bulkhead, Shano heard oxygen hiss through the\\n pipes. Hiss and hiss and then flow soundlessly, filling the cabin and\\n his lungs. He choked.\\n\\n\\n The cabin was like a mine shaft, dark and cold. Feet pounded on the\\n deck outside.\\n\\n\\n Shano clawed open the door. He peered out anxiously.\\n\\n\\n Cold blobs of light, phosphorescent bulbs held in the fists of men,\\n glimmered by. Phosphorescent bulbs, because the power was off. Shano\\n blinked. He saw officers and men, their faces tight and pinched,\\n hurrying in all directions. Hurrying to shut down the ship.\\n\\n\\n He acted impulsively. A young ensign strode by, drawn blaster in hand.\\n Shano followed him; followed the bluish glow of his bulb, through\\n labyrinthine passages and down a companionway, coughing and leering\\n against the pain in his joints. The blue light winked out in the\\n distance and Shano stopped.\\n\\n\\n He was suddenly alarmed. The captain had warned him to stay in his\\n cabin. He looked back and forth, wondering how to return.\\n\\n\\n A bell clanged.\\n\\n\\n Shano saw a cold bulb glowing down the passageway, and he shuffled\\n hopefully toward it. The bulb moved away. He saw an indistinct figure\\n disappear through a door marked, ENGINE ROOM.\\n\\n\\n Shano paused uncertainly at the end of the passageway. A thick cluster\\n of vertical pipes filled the corner. He peered at the pipes and saw a\\n gray box snuggled behind them. It had two toggle switches and a radium\\n dial that quivered delicately.\\n\\n\\n Shano scratched his scalp as boots pounded on the decks, above\\n and below. He listened attentively to the ship\\'s familiar noises\\n diminishing one by one. And finally even the pounding of feet died out;\\n everything became still. The silence shrieked in his ears.\\nThe ship coasted. Shano could sense it coasting. He couldn\\'t feel it\\n or hear it, but he knew it was sliding ghost-like through space like a\\n submarine dead under water, slipping quietly past a listening enemy.\\n\\n\\n The ship\\'s speaker rasped softly. \"\\nEmergency. Battle posts.\\n\"\\n\\n\\n The captain\\'s voice. Calm, brief. It sent a tremor through Shano\\'s\\n body. He heard a quick scuffle of feet again, running feet, directly\\n overhead, and the captain\\'s voice, more urgently, \"Power on. They\\'ve\\n heard us.\"\\n\\n\\n The words carried no accusation, but Shano realized what they meant.\\n A slip-up. Something left running. Vibrations picked up quickly by\\n detectors of the Uranian space fleet.\\n\\n\\n Shano coughed and heard the ship come to life around him. He pulled\\n himself out of the spasm, cursing Pluto. Cursing his diseased,\\n gum-clogged lungs. Cursing the Uranian fleet that was trying to prevent\\n his going home—even to die.\\n\\n\\n This was a strange battle. Strange indeed. It was mostly silence.\\n\\n\\n Occasionally, as though from another world, came a brief, curt order.\\n \"Port guns alert.\" Then hush and tension.\\n\\n\\n The deck lurched and the ship swung this way and that. Maybe dodging,\\n maybe maneuvering—Shano didn\\'t know. He felt the deck lurch, that was\\n all.\\n\\n\\n \"Fire number seven.\"\\n\\n\\n He heard the weird scream of a ray gun, and felt the constricting\\n terror that seemed to belt the ship like an iron band.\\n\\n\\n This was a battle in space, and out there were Uranian cruisers trying\\n to blast the\\nStardust\\nout of the sky. Trying and trying, while the\\n captain dodged and fired back—pitted his skill and knowledge against\\n an enemy Shano couldn\\'t see.\\n\\n\\n He wanted desperately to help the captain break through, and get to\\n Earth. But he could only cling to the plastic pipes and cough.\\n\\n\\n The ship jounced and slid beneath his feet, and was filled with sound.\\n It rocked and rolled. Shano caromed off the bulkhead.\\n\\n\\n \"Hold fire.\"\\n\\n\\n He crawled to his knees on the slippery deck, grabbed the pipes and\\n pulled himself erect, hand over hand. His eyes came level with the gray\\n metal box behind the pipes. He squinted, fascinated, at the quivering\\n dial needle. \"Hey!\" he said.\\n\\n\\n \"Stand by.\"\\n\\n\\n Shano puzzled it out, his mind groping. He wasn\\'t used to thinking.\\n Only working with his hands.\\n\\n\\n This box. This needle that had quivered when the ship was closed\\n down....\\n\\n\\n \"It\\'s over. Chased them off. Ready guns before laying to. Third watch\\n on duty.\"\\n\\n\\n Shano sighed at the sudden release of tension throughout the space\\n liner\\nStardust\\n.\\n\\n\\n Smoke spewed from his nostrils. His forehead wrinkled with\\n concentration. Those rumors: \"Man sells out to Uranus, gets a nick cut\\n in his jaw. Ever see a man with a nick in his jaw? Watch him, he\\'s up\\n to something.\" The talk of ignorant men. Shano remembered.\\n\\n\\n He poked behind the pipes and angrily slapped the toggle switches on\\n the box. The captain would only scoff. He\\'d never believe there was a\\n traitor aboard who had planted an electronic signal box, giving away\\n the ship\\'s position. He\\'d never believe the babblings of an old man.\\n\\n\\n He straightened up, glaring angrily. He knew. And the knowledge made\\n him cold and furious. He watched the engine room emergency exit as it\\n opened cautiously.\\n\\n\\n A chunky man backed out, holstering a flat blaster. He turned and saw\\n Shano, standing smoking. He walked over and nudged Shano, his face\\n dark. Shano blew smoke into the dark face.\\n\\n\\n \"Old man,\" said Rourke. \"What\\'re you doing down here?\"\\n\\n\\n Shano blinked.\\n\\n\\n Rourke fingered the nick in his jaw, eyes glinting. \"You\\'re supposed to\\n be in your cabin,\" he said. \"Didn\\'t I warn you we\\'d run into trouble?\"\\n\\n\\n Shano smoked and contemplated the chunky man. Estimated his strength\\n and youth and felt the anger and frustration mount in him. \"Devil,\" he\\n said.\\n\"Devil,\" he said and dug his cigarette into the other\\'s face.\\nHe lunged then, clawing. He dug the cigarette into Rourke\\'s flushed\\n face, and clung to his body. Rourke howled. He fell backward to the\\n deck, slapping at his blistered face. He thrashed around and Shano\\n clung to him, battered, pressing the cigarette relentlessly, coughing,\\n cursing the pain in his joints.\\n\\n\\n Shano grasped Rourke\\'s neck with his hands. He twisted the neck with\\n his gnarled hands. Strong hands that had worked.\\n\\n\\n He got up when Rourke stopped thrashing. The face was purple and he\\n was dead. Shano shivered. He crouched in the passageway shivering and\\n coughing.\\nA tremendous grinding sounded amid-ships. Loud rending noises of\\n protesting metal. The ship bucked like a hooked fish. Then it was\\n still. An empty clank echoed through the hull. The captain\\'s voice\\n came, almost yelling. \"Emergency! Emergency! Back to your posts. Engine\\n room—report! Engine room—\"\\n\\n\\n Shano picked himself off the deck, his mind muddled. He coughed and\\n put a cigarette to his lips, flicking a lighter disk jerkily from his\\n pocket. He blew smoke from his nostrils and heard the renewed pounding\\n of feet. What was going on now?\\n\\n\\n \"Engine room! Your screen is dead! Switch onto loud-speaker system.\\n Engine room!\"\\n\\n\\n Giddily, Shano heard clicks and rasps and then a thick voice, atom\\n motors whirring in the background.\\n\\n\\n \"Selector\\'s gone, sir. Direct hit. Heat ray through the deck plates.\\n We\\'ve sealed the tear. Might repair selector in five hours.\"\\n\\n\\n Shano coughed and sent a burst of smoke from his mouth.\\n\\n\\n \"Captain!\" A rasping, grating sound ensued from a grill above Shano\\'s\\n head, then a disconnected voice. \"Get the men out of there. It\\'s\\n useless. Hurry it up!\" A series of clicks and the heavy voice of the\\n chief engineer. \"Captain! Somebody\\'s smashed the selector chamber.\\n Engine room\\'s full of toxia gas!\"\\n\\n\\n Shano jumped. He prodded the body on the deck with his toe.\\n\\n\\n The\\nStardust\\'s\\nmechanical voice bellowed: \"Engine room!\" It\\n reproduced the captain\\'s heavy breathing and his tired voice. \"We\\'re\\n about midway to Venus,\" it said. \"There were two ships and we drove\\n them off. But there may be others. They\\'ll be coming back. They know\\n we\\'ve been hit. We have to get away fast!\"\\n\\n\\n Shano could see the captain in his mind, worried, squared face slick\\n with moisture. Shouting into a control room mike. Trying to find out\\n what the matter was with his space ship.\\n\\n\\n The engineer\\'s answer came from the grill. \"Impossible, sir. Engine\\n room full of toxia gas. Not a suit aboard prepared to withstand it. And\\n we have to keep it in there. Selector filaments won\\'t function without\\n the gas. Our only chance was to put a man in the engine room to repair\\n the broken selector valve rods or keep them running by hand.\"\\n\\n\\n \"Blast it!\" roared the captain. \"No way of getting in there? Can\\'t you\\n by-pass the selector?\"\\n\\n\\n \"No. It\\'s the heart of the new cosmic drive, sir. The fuels must pass\\n through selector valves before entering the tube chambers. Filaments\\n will operate so long as toxia gas is there to burn, and will keep\\n trying to open the valves and compensate for fluctuating engine\\n temperature. But the rod pins have melted down, sir—they\\'re common\\n tungsten steel—and when the rods pull a valve open, they slip off and\\n drop down, useless. It\\'s a mess. If we could only get a man in there\\n he might lift up the dropped end of a rod and slip it into place each\\n time it fell, and keep the valves working and feeding fuel.\"\\n\\n\\n The speaker spluttered and Shano smoked thoughtfully, listening to the\\n talk back and forth, between the captain and the engineer. He didn\\'t\\n understand it, but knew that everything was ended. They were broken\\n down in space and would never make Earth. Those Uranian devils would\\n come streaking back. Catch them floating, helpless, and blast them to\\n bits. And he would never get home to die.\\n\\n\\n Shano coughed, and cursed his lungs. Time was when these gum-clogged\\n lungs had saved his life. In the Plutonian mines. Gas explosions in the\\n tunnels. Toxia gas, seeping in, burning the men\\'s insides. But with\\n gum-clogged lungs he\\'d been able to work himself clear. Just getting\\n sick where other men had died, their insides burned out.\\n\\n\\n Shano smoked and thought.\\nThey wouldn\\'t even know, he told himself, squirming through the\\n emergency exit into the engine room, and sealing it after him. And they\\n wouldn\\'t understand if they did. Pink mist swirled about him. Toxia\\n gas. Shano coughed.\\n\\n\\n He squinted around at the massive, incomprehensible machinery. The guts\\n of the space ship.\\n\\n\\n Then he saw the shattered, gold-gleaming cylinder, gas hissing from\\n a fine nozzle, and filaments glowing bluish inside it, still working\\n away. He saw five heavy Carrsteel rods hanging useless, on melted-down\\n pins, and the slots their pronged ends hooked into. He looked at his\\n hands, and shook his head.\\n\\n\\n \"One try,\" he said to himself. \"One try, Shano. One important thing in\\n your life. Here\\'s your opportunity. The toxia gas will get you. It\\'ll\\n kill you at this concentration. But you\\'ll last for maybe twelve hours.\\n Another man wouldn\\'t last a minute. Another man\\'s lungs aren\\'t clogged\\n with Juno gum.\"\\n\\n\\n He grasped a rod and lifted it, sweating under the weight, and slipped\\n the forked end into its slot. Going home to die, he thought. Well,\\n maybe not going home. Couldn\\'t remember what Earth looked like anyway.\\n\\n\\n What was that again? Oh yeah—just lift them up, and when they drop\\n off, lift them up again.\\n\\n\\n Shano coughed, and lifted the heavy rods into position. One jerked back\\n suddenly and smoothly, and something went, \"Pop, pop,\" behind him and\\n machinery whirred. He lifted the rod and slipped it back on. Another\\n jerked, pulled open a large valve, and dropped off. Shano bent, and\\n lifted, coughing and coughing. He forgot what he was doing, mind blank\\n the way it went when he worked. Just rhythmically fell into the job,\\n the way a laborer does. He waited for a rod to slip and fall, then\\n lifted it up and slipped it in place, skin sweating, joints shooting\\n pain along his limbs. He heard the machinery working. He heard the\\n high, howling whine of cosmic jets. He, Shano, was making the machinery\\n go. He was running the cosmic drive.\\n\\n\\n A bell clanged somewhere. \"Engine room! Engine room! We\\'re under way!\\n What happened?\"\\n\\n\\n Silence, while Shano coughed and made the machinery go, thinking about\\n the Earth he hadn\\'t seen for many years.\\n\\n\\n \"Captain!\" the speaker bawled. \"There\\'s a man in there! Working the\\n valve rods! Somebody is in the engine room and the gas isn\\'t....\"\\n\\n\\n Shano grinned, feeling good. Feeling happy. Lifting the heavy steel\\n rods, driving the ship. Keeping the jets screaming and hurtling the\\n liner\\nStardust\\ntoward Venus. He wondered if they\\'d found Rourke yet.\\n If he could keep going for twelve hours they would get to Venus. After\\n that....\\n\\n\\n \"Home,\" he coughed. \"Hell! Who wants to go home?\"\\n\\n\\n He plucked at his agitated chest, thinking of a whole damn Uranian\\n fleet swooping down on a spot in space, expecting to find a crippled\\n ship there with a spy inside it. And finding nothing. Because of Shano.\\n A useless old man.\\n\\n\\n Coughing came out all mixed up with laughing.\\n',\n",
       " 'questions': [{'question': 'What does the phrase, \"Here she comes,\" refer to?',\n",
       "   'question_unique_id': '63860_6KOJTPYF_1',\n",
       "   'options': ['The female mayor of Q City was arriving for a planned meeting.',\n",
       "    'The incoming spaceship Stardust.',\n",
       "    'The cook, who was running late.',\n",
       "    \"Shano's wife, who was joining him in line.\"],\n",
       "   'difficult': 0},\n",
       "  {'question': 'Has Shano always lived on Mercury?',\n",
       "   'question_unique_id': '63860_6KOJTPYF_2',\n",
       "   'options': ['No, he worked in many places in the solar system.',\n",
       "    'Yes, he worked in the spaceport on Mercury until he retired.',\n",
       "    'The only other place that he lived was Pluto, where he worked in the vanium mines.',\n",
       "    'No, he was a Martian before coming to Mercury.'],\n",
       "   'difficult': 1},\n",
       "  {'question': 'What two details provided early in the story tell us who sabotaged the Stardust?',\n",
       "   'question_unique_id': '63860_6KOJTPYF_3',\n",
       "   'options': [\"We are told about the lieutenant's portly build and about a strange notch on his jaw. The lieutenant sabotaged the ship.\",\n",
       "    'The captain is from Jupiter and seems surprised that there is a passenger aboard. The captain sabotaged the ship.',\n",
       "    'The man ahead of Shano in line makes a big production of his disgust about the red signal. He could still go, but he chooses not to. He sabotaged the ship.',\n",
       "    \"Shano is old and his body is worn out. He is suicidal, that's why he sabotaged the ship.\"],\n",
       "   'difficult': 1},\n",
       "  {'question': 'How, specifically, did the enemy fleet find the Stardust?',\n",
       "   'question_unique_id': '63860_6KOJTPYF_4',\n",
       "   'options': ['The enemy had superior space sonar which could detect even the voices of whispering crewmen, so even though the Stardust was running silent, it was detected.',\n",
       "    'The saboteur signaled the enemy ships through one of the passenger cabin portholes, using a lamp so bright that goggles were needed to avoid eye damage. This light was easily seen by the watching enemy.',\n",
       "    'A saboteur hid a noise-generating device one of the decks, which the enemy detected even though the Stardust was supposed to be running silent.',\n",
       "    'Shano was the saboteur, and he flipped the switch on the noise-emitter he had hidden in a maintenance corridor to signal the enemy fleet.'],\n",
       "   'difficult': 1},\n",
       "  {'question': \"Shano's cough turns out to be the symptom of an advantage in the fight against the Uranians. What is that advantage?\",\n",
       "   'question_unique_id': '63860_6KOJTPYF_5',\n",
       "   'options': [\"Shano was terminally ill from the cough. Since he was about to die anyway, he didn't care if he died in the engine room.\",\n",
       "    \"The cough, while painful, brings more air into the lungs, enabling Shano to keep his blood oxygenated while working in the Stardust's damaged engine room.\",\n",
       "    \"The noise from Shano's coughing allows the other engineers to keep track of his location in the damaged engine room, and give him instructions about how to keep the engines running.\",\n",
       "    \"Lungs congested from working in the vanium ore extraction industry are much less affected by toxia gas, which enabled Shano to work in the Stardust's damaged engine room.\"],\n",
       "   'difficult': 1},\n",
       "  {'question': 'Where does Shano want to go to die?',\n",
       "   'question_unique_id': '63860_6KOJTPYF_6',\n",
       "   'options': ['Mars.', 'Earth.', 'Venus.', 'Pluto.'],\n",
       "   'difficult': 0},\n",
       "  {'question': 'Why does Shano try to save the ship?',\n",
       "   'question_unique_id': '63860_6KOJTPYF_7',\n",
       "   'options': ['Because he was afraid to die in space where his body would never be found.',\n",
       "    'Because it was his one big chance to prove that he, a broken down menial worker, was worth as much as the next man.',\n",
       "    'Because he was extremely patriotic.',\n",
       "    \"Because he had a solid understanding of the Stardust's engines, and he was the best candidate for the dangerous work.\"],\n",
       "   'difficult': 1},\n",
       "  {'question': 'How did the lieutenant die?',\n",
       "   'question_unique_id': '63860_6KOJTPYF_8',\n",
       "   'options': [\"He died from toxia gas poisoning while trying to repair the Stardust's damaged engines.\",\n",
       "    'He was killed by Shano.',\n",
       "    'He died of a head injury in a maintenance corridor, when he hit his head on the pipes.',\n",
       "    'He died during the initial enemy attack, as a result of a direct hit from a ray gun.'],\n",
       "   'difficult': 1},\n",
       "  {'question': 'Why did Shano leave his cabin during the powerdown?',\n",
       "   'question_unique_id': '63860_6KOJTPYF_9',\n",
       "   'options': ['He was looking for a safer place to ride out the battle than his cabin.',\n",
       "    'He had no reason. He just did it on the spur of the moment.',\n",
       "    'He was looking for the escape pods that were required equipment on every spaceship.',\n",
       "    'He wanted to offer the captain his help in the battle.'],\n",
       "   'difficult': 1}],\n",
       " 'url': 'http://aleph.gutenberg.org/6/3/8/6/63860//63860-h//63860-h.htm',\n",
       " 'license': 'This eBook is for the use of anyone anywhere in the United States and most other parts of the world at no cost and with almost no restrictions whatsoever. You may copy it, give it away or re-use it under the terms of the Project Gutenberg License included with this eBook or online at www.gutenberg.org. If you are not located in the United States, you’ll have to check the laws of the country where you are located before using this ebook. Please refer to https://www.gutenberg.org/policy/license.html for the detailed license.'}"
      ]
     },
     "execution_count": 11,
     "metadata": {},
     "output_type": "execute_result"
    }
   ],
   "source": [
    "data"
   ]
  },
  {
   "cell_type": "code",
   "execution_count": 17,
   "metadata": {},
   "outputs": [],
   "source": [
    "convert_dataset_json(\"D:\\AI\\project_QuALITY\\data\\QuALITY.v1.0.1\\QuALITY.v1.0.1.htmlstripped.train\",\"D:\\AI\\project_QuALITY\\data\\QuALITY.v1.0.1\\quality_json_format\\hmtlstripped_train.json\")"
   ]
  },
  {
   "cell_type": "code",
   "execution_count": null,
   "metadata": {},
   "outputs": [],
   "source": []
  }
 ],
 "metadata": {
  "kernelspec": {
   "display_name": "llm",
   "language": "python",
   "name": "python3"
  },
  "language_info": {
   "codemirror_mode": {
    "name": "ipython",
    "version": 3
   },
   "file_extension": ".py",
   "mimetype": "text/x-python",
   "name": "python",
   "nbconvert_exporter": "python",
   "pygments_lexer": "ipython3",
   "version": "3.11.0"
  }
 },
 "nbformat": 4,
 "nbformat_minor": 2
}
